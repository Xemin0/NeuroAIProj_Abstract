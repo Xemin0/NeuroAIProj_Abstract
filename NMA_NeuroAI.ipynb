{
  "nbformat": 4,
  "nbformat_minor": 0,
  "metadata": {
    "colab": {
      "provenance": [],
      "machine_shape": "hm",
      "gpuType": "V28"
    },
    "kernelspec": {
      "name": "python3",
      "display_name": "Python 3"
    },
    "language_info": {
      "name": "python"
    },
    "accelerator": "TPU"
  },
  "cells": [
    {
      "cell_type": "markdown",
      "source": [
        "It has been observed in prior work that tasks sharing some underlying structure will exhibit overlapping neural activity. For instance, Yang et. al. (2019) trained RNNs on several cognitive tasks and observed clustering in the neural activity space: some clusters specialized to particular tasks, while others were shared between tasks. In theory, it is also possible to observe a completely distributed representation (i.e. no modular clusters). While Yang focused on sensory tasks, we aim to study tasks involving abstract relations: transitive inference, subset inclusion, and divisibility. These tasks are likely to have some common underlying structure, as both represent transitive relations. We will compare the neural geometry of the same model trained on one of these tasks at a time to that trained on both (using interleaving).\n",
        "\n",
        "Finally, we will train an RNN on a secondary task requiring the representations learned in the transitive inference task. While we have not finalized this task, its purpose is to generate interesting dynamics. One example may be: At each time step, a new item (from the items learned during the TI task) will be presented to the RNN. Its task will be to output the items it has seen so far in the correct order at each time step. Another idea is to show the RNN two inputs at each time step and to morph one of the inputs until the relationship between the inputs is flipped (for example, if the first input is ‘greater’, then ‘shrink’ it until the second input is ‘greater’, where the notion of ‘greater than’ is relative to the task). The RNN’s task would be to return 0 while the original relation holds, and 1 once it no longer holds.\n",
        "\n",
        "Questions we hope to answer: How will the neural representation of a given task change when more than one task is learned simultaneously? In the latter case, will we find that the activations shared between the two tasks are also present in some form when only one task is learned at a time? That is—does a neural network organize its activity differently when related tasks must be learned together? We will use RDM analysis and dimensionality reduction techniques to look for specialized clusters in neural activity space. We will then compare our networks using RSA/RDA, as well as dynamics-based methods such as DSA and fixed/slow point analysis."
      ],
      "metadata": {
        "id": "fFyfJ27WTq38"
      }
    },
    {
      "cell_type": "code",
      "source": [
        "# Transitive Inference: (i.e. index 0 is greater than index 1 = \"A > B\")\n",
        "# Example stimulus: [[1, 0, 0],[0, 1, 0]]\n",
        "# Example output: 0\n",
        "\n",
        "# Subset Inclusion: (i.e. index 0 is greater than index 1 = \"A \\contains B\")\n",
        "# Example stimulus: [[1, 1, 1],[0, 1, 0]]\n",
        "# Example output: 0 = \"A \\contains B\"\n",
        "\n",
        "# Divisibility:\n",
        "# Example stimulus: [6,3]\n",
        "# Example output: 0 = \"A is divisble by B\""
      ],
      "metadata": {
        "id": "Vz3tYw747mMA"
      },
      "execution_count": null,
      "outputs": []
    },
    {
      "cell_type": "code",
      "execution_count": null,
      "metadata": {
        "colab": {
          "base_uri": "https://localhost:8080/"
        },
        "id": "QAxgYljN5Txw",
        "outputId": "d27f7e85-945c-4dc8-8d3a-b060cb8b07d4"
      },
      "outputs": [
        {
          "output_type": "execute_result",
          "data": {
            "text/plain": [
              "<torch._C.Generator at 0x7b050305f3d0>"
            ]
          },
          "metadata": {},
          "execution_count": 8
        }
      ],
      "source": [
        "# @title Imports\n",
        "\n",
        "# General\n",
        "import numpy as np\n",
        "import pandas as pd\n",
        "from scipy.stats import zscore\n",
        "import matplotlib as mpl\n",
        "from matplotlib import pyplot as plt\n",
        "import random\n",
        "from statistics import mean\n",
        "import math\n",
        "\n",
        "# Deep learning\n",
        "import torch\n",
        "from torch import nn, optim\n",
        "\n",
        "# # Response visualizations\n",
        "# !pip install umap-learn\n",
        "# import umap\n",
        "import seaborn as sns\n",
        "\n",
        "# Set random seeds for reproducibility\n",
        "np.random.seed(12)\n",
        "torch.manual_seed(12)"
      ]
    },
    {
      "cell_type": "code",
      "source": [
        "# @title Helper Functions\n",
        "\n",
        "\n",
        "def get_hidden_activity(net, stimuli, layer_labels):\n",
        "  \"\"\"Retrieve internal representations of network\n",
        "\n",
        "  Args:\n",
        "    net (nn.Module): deep network\n",
        "    stimuli (torch.Tensor): input to the network\n",
        "    layer_labels (list): list of strings with labels of each layer for which\n",
        "      to return its internal representations\n",
        "\n",
        "  Returns:\n",
        "    dict: internal representations at each layer of the network, in\n",
        "      numpy arrays. The keys of this dict are the strings in layer_labels.\n",
        "\n",
        "  \"\"\"\n",
        "\n",
        "  hidden_activity = {}\n",
        "\n",
        "  # Attach hooks to each layer of the network to store hidden\n",
        "  # representations in hidden_activity\n",
        "  def hook(module, input, output):\n",
        "    module_label = list(net._modules.keys())[np.argwhere([module == m for m in net._modules.values()])[0, 0]]\n",
        "    if module_label in layer_labels:\n",
        "      hidden_activity[module_label] = output.view(stimuli.shape[0], -1).cpu().detach().numpy()\n",
        "  hooks = [layer.register_forward_hook(hook) for layer in net.children()]\n",
        "\n",
        "  # Run stimuli through the network\n",
        "  pred = net.predict(stimuli)\n",
        "\n",
        "  # Remove the hooks\n",
        "  [h.remove() for h in hooks]\n",
        "\n",
        "  return hidden_activity"
      ],
      "metadata": {
        "cellView": "form",
        "id": "rahBbouaQTvH"
      },
      "execution_count": null,
      "outputs": []
    },
    {
      "cell_type": "code",
      "source": [
        "# @title Task design: Part I\n",
        "\n",
        "def make_stimulus_dict(input_length, task='ti'):\n",
        "    stimulus_order_dict = []\n",
        "\n",
        "    if task == 'ti':\n",
        "      for index in range(input_length):\n",
        "        stimulus_key = [0]*input_length\n",
        "        stimulus_key[index] = 1\n",
        "        stimulus_order_dict.append(stimulus_key)\n",
        "      random.shuffle(stimulus_order_dict)\n",
        "\n",
        "    # elif task == \"si\":\n",
        "    #   for index in range(input_length):\n",
        "    #     stimulus_key = [0]*input_length\n",
        "\n",
        "\n",
        "    return stimulus_order_dict\n",
        "\n",
        "def get_batch(batch_size, task, stimulus_dict=None, input_length=3, mode='train'):\n",
        "\n",
        "  # Helpers\n",
        "  def get_binary_vec(input_length):\n",
        "    return [random.randint(0, 1) for _ in range(input_length)]\n",
        "\n",
        "  def make_stimulus(input_length, task='ti'):\n",
        "    if task == 'ti':\n",
        "      if mode == 'test':\n",
        "        dict_indices = [0,0]\n",
        "        while abs(dict_indices[0] - dict_indices[1]) < 2:\n",
        "          dict_indices = random.sample(range(input_length), 2)\n",
        "          random.shuffle(dict_indices)\n",
        "      elif mode == 'train':\n",
        "        temp_idx = random.sample(range(input_length-1), 1)\n",
        "        dict_indices = [temp_idx[0], temp_idx[0]+1]\n",
        "        random.shuffle(dict_indices)\n",
        "\n",
        "      stimulus = [stimulus_dict[i] for i in dict_indices]\n",
        "\n",
        "      if dict_indices[0] < dict_indices[1]: # If the first item is greater, it appears earlier in the list\n",
        "        target = 0\n",
        "      else:\n",
        "        target = 1\n",
        "\n",
        "    elif task == 'si':\n",
        "      stimulus = [0,0]\n",
        "      while stimulus[0] == stimulus[1]:\n",
        "        stimulus = [get_binary_vec(input_length), get_binary_vec(input_length)]\n",
        "\n",
        "      if stimulus[0] > stimulus[1]: # If first binary number is greater, it is the superset\n",
        "        target = 0\n",
        "      else:\n",
        "        target = 1\n",
        "\n",
        "    # elif task == \"div\":\n",
        "    #   stimulus = [random.sample(range(0, 100, 2),1)[0], random.sample(range(0, 100, 2),1)[0]]\n",
        "    #   if stimulus[0] % stimulus[1] == 0:\n",
        "    #     target = 0\n",
        "    #   else:\n",
        "    #     target = 1\n",
        "\n",
        "    return stimulus, target\n",
        "\n",
        "  stimuli = []\n",
        "  labels = []\n",
        "  for _ in range(batch_size):\n",
        "    stimulus, target = make_stimulus(input_length, task)\n",
        "    stimuli.append(stimulus)\n",
        "    labels.append(target)\n",
        "\n",
        "  stimuli = torch.tensor(stimuli).float()\n",
        "  labels = torch.tensor(labels).float()\n",
        "\n",
        "  if torch.cuda.is_available():\n",
        "    stimuli = stimuli.to('cuda')\n",
        "    labels = labels.to('cuda')\n",
        "\n",
        "  return stimuli, labels"
      ],
      "metadata": {
        "id": "93onUzVT5a-f"
      },
      "execution_count": null,
      "outputs": []
    },
    {
      "cell_type": "code",
      "source": [
        "input_length = 5\n",
        "stimulus_dict = make_stimulus_dict(input_length)\n",
        "print(stimulus_dict,'\\n')\n",
        "get_batch(10, 'ti', stimulus_dict, input_length, mode='test')"
      ],
      "metadata": {
        "colab": {
          "base_uri": "https://localhost:8080/"
        },
        "id": "6SuEZFTZR_bC",
        "outputId": "e4004284-b60b-4c25-c455-7a0088e2f4f8"
      },
      "execution_count": null,
      "outputs": [
        {
          "output_type": "stream",
          "name": "stdout",
          "text": [
            "[[0, 1, 0, 0, 0], [0, 0, 0, 0, 1], [0, 0, 0, 1, 0], [1, 0, 0, 0, 0], [0, 0, 1, 0, 0]] \n",
            "\n"
          ]
        },
        {
          "output_type": "execute_result",
          "data": {
            "text/plain": [
              "(tensor([[[0., 0., 1., 0., 0.],\n",
              "          [0., 0., 0., 1., 0.]],\n",
              " \n",
              "         [[0., 1., 0., 0., 0.],\n",
              "          [1., 0., 0., 0., 0.]],\n",
              " \n",
              "         [[0., 0., 1., 0., 0.],\n",
              "          [0., 1., 0., 0., 0.]],\n",
              " \n",
              "         [[0., 0., 0., 0., 1.],\n",
              "          [1., 0., 0., 0., 0.]],\n",
              " \n",
              "         [[1., 0., 0., 0., 0.],\n",
              "          [0., 0., 0., 0., 1.]],\n",
              " \n",
              "         [[0., 0., 0., 1., 0.],\n",
              "          [0., 0., 1., 0., 0.]],\n",
              " \n",
              "         [[0., 0., 0., 0., 1.],\n",
              "          [1., 0., 0., 0., 0.]],\n",
              " \n",
              "         [[0., 0., 0., 1., 0.],\n",
              "          [0., 1., 0., 0., 0.]],\n",
              " \n",
              "         [[0., 1., 0., 0., 0.],\n",
              "          [0., 0., 1., 0., 0.]],\n",
              " \n",
              "         [[0., 0., 1., 0., 0.],\n",
              "          [0., 1., 0., 0., 0.]]]),\n",
              " tensor([1., 0., 1., 0., 1., 0., 0., 1., 0., 1.]))"
            ]
          },
          "metadata": {},
          "execution_count": 11
        }
      ]
    },
    {
      "cell_type": "code",
      "source": [
        "# @title Architecture: Feedforward\n",
        "\n",
        "# Inputs: list of two vectors\n",
        "# Outputs: scalar (0/1)\n",
        "\n",
        "# Helpers\n",
        "def get_resp_layer_labels(net):\n",
        "  layer_names = list(net._modules.keys())\n",
        "  return layer_names\n",
        "\n",
        "def get_resp_layer_inputs(task='ti', stimulus_dict=None):\n",
        "  if task == 'ti':\n",
        "    return stimulus_dict\n",
        "\n",
        "class Feedforward(nn.Module):\n",
        "  def __init__(self, input_dim, hidden_dim, output_dim):\n",
        "    super(Feedforward, self).__init__()\n",
        "    self.fc1 = nn.Linear(input_dim*2, hidden_dim)\n",
        "    self.fc2 = nn.Linear(hidden_dim, output_dim)\n",
        "    self.sigmoid = nn.Sigmoid()\n",
        "    # self.relu = nn.ReLU()\n",
        "\n",
        "  def forward(self, x):\n",
        "    x = torch.flatten(x, start_dim=1)\n",
        "    x = self.fc1(x)\n",
        "    # x = self.relu(x)\n",
        "    x = self.fc2(x)\n",
        "    x = self.sigmoid(x)\n",
        "    return x.squeeze()\n",
        "\n",
        "  def predict(self, x):\n",
        "    with torch.no_grad():\n",
        "      return torch.relu(self.forward(x))\n",
        "\n",
        "  def evaluate(self, dataset_size, task='ti', stimulus_dict=None):\n",
        "    with torch.no_grad():\n",
        "      test_stimuli, test_labels = get_batch(params_dict['dataset_size'], task, stimulus_dict, mode='test')\n",
        "      loss_fn = nn.BCELoss()\n",
        "\n",
        "      track_loss = []\n",
        "      for i in range(params_dict['dataset_size']//params_dict['batch_size']):\n",
        "        out = self.forward(test_stimuli)\n",
        "        loss = loss_fn(out, test_labels)\n",
        "        track_loss.append(loss.item())\n",
        "\n",
        "      return mean(track_loss)\n",
        "\n",
        "def train_loop(net, response_dict=False, **params_dict):\n",
        "\n",
        "  # # Initialize response dictionary and inputs\n",
        "  # if response_dict:\n",
        "  #   resp_layer_labels = get_resp_layer_labels(net)\n",
        "  #   resp_dict = {layer : [] for layer in resp_layer_labels}\n",
        "  #   stimuli_for_hooks = get_resp_layer_inputs()\n",
        "  # else: resp_dict = None\n",
        "\n",
        "  criterion = nn.BCELoss()\n",
        "  optimizer = optim.SGD(net.parameters(), lr=params_dict['learning_rate'], momentum=params_dict['momentum'])\n",
        "\n",
        "  track_loss = []\n",
        "\n",
        "  for i in range(params_dict.get('n_epochs')):\n",
        "    for j in range(params_dict['dataset_size']//params_dict['batch_size']):\n",
        "      stimuli, labels = get_batch(params_dict['batch_size'], params_dict['task'], stimulus_dict, params_dict['input_length'])\n",
        "\n",
        "      out = net.forward(stimuli)\n",
        "      loss = criterion(out, labels)\n",
        "      optimizer.zero_grad()\n",
        "      loss.backward()\n",
        "      optimizer.step()\n",
        "\n",
        "      track_loss.append(loss.item())\n",
        "      if i % 100 == 0:\n",
        "        print(f'epoch {i + 1} | loss on last batch: {loss.item(): 3e}')\n",
        "\n",
        "  # FIX LATER\n",
        "      # if response_dict:\n",
        "      #   if (i + 1) % (n_epochs // 25) == 0:\n",
        "      #   for layer in resp_layer_labels:\n",
        "      #     resp_dict[layer].append(get_hidden_activity(net, stimuli_for_hooks[layer], [layer])[layer])\n",
        "\n",
        "  return track_loss, response_dict"
      ],
      "metadata": {
        "id": "AtR-00o2v5Wa"
      },
      "execution_count": null,
      "outputs": []
    },
    {
      "cell_type": "code",
      "source": [
        "params_dict = {\n",
        "    'batch_size': 10,\n",
        "    'n_epochs': 200,\n",
        "    'dataset_size': 1000,\n",
        "    'learning_rate': 0.0005,\n",
        "    'momentum': .99,\n",
        "    'task': 'ti',\n",
        "    'input_length': 10\n",
        "}"
      ],
      "metadata": {
        "id": "ln4bdayXG_9l"
      },
      "execution_count": null,
      "outputs": []
    },
    {
      "cell_type": "code",
      "source": [
        "stimulus_dict = make_stimulus_dict(params_dict['input_length'])"
      ],
      "metadata": {
        "id": "EJoxMykYzsXd"
      },
      "execution_count": null,
      "outputs": []
    },
    {
      "cell_type": "code",
      "source": [
        "net = Feedforward(input_dim=params_dict['input_length'], hidden_dim=10, output_dim=1)\n",
        "if torch.cuda.is_available():\n",
        "  net.cuda()\n",
        "\n",
        "track_loss, resp_dict = train_loop(net, response_dict=True, **params_dict)"
      ],
      "metadata": {
        "colab": {
          "base_uri": "https://localhost:8080/"
        },
        "id": "my9sp9sylC70",
        "outputId": "047d2261-833b-4555-effc-9a289afc0e79"
      },
      "execution_count": null,
      "outputs": [
        {
          "output_type": "stream",
          "name": "stdout",
          "text": [
            "epoch 1 | loss on last batch:  7.278697e-01\n",
            "epoch 1 | loss on last batch:  6.982560e-01\n",
            "epoch 1 | loss on last batch:  7.018268e-01\n",
            "epoch 1 | loss on last batch:  6.737809e-01\n",
            "epoch 1 | loss on last batch:  7.505219e-01\n",
            "epoch 1 | loss on last batch:  6.953648e-01\n",
            "epoch 1 | loss on last batch:  6.899623e-01\n",
            "epoch 1 | loss on last batch:  6.884109e-01\n",
            "epoch 1 | loss on last batch:  7.238373e-01\n",
            "epoch 1 | loss on last batch:  7.110880e-01\n",
            "epoch 1 | loss on last batch:  6.855608e-01\n",
            "epoch 1 | loss on last batch:  6.707398e-01\n",
            "epoch 1 | loss on last batch:  6.995573e-01\n",
            "epoch 1 | loss on last batch:  7.373997e-01\n",
            "epoch 1 | loss on last batch:  6.743290e-01\n",
            "epoch 1 | loss on last batch:  6.821994e-01\n",
            "epoch 1 | loss on last batch:  6.722899e-01\n",
            "epoch 1 | loss on last batch:  6.910343e-01\n",
            "epoch 1 | loss on last batch:  6.583254e-01\n",
            "epoch 1 | loss on last batch:  7.197160e-01\n",
            "epoch 1 | loss on last batch:  6.935943e-01\n",
            "epoch 1 | loss on last batch:  7.304868e-01\n",
            "epoch 1 | loss on last batch:  7.321700e-01\n",
            "epoch 1 | loss on last batch:  6.984157e-01\n",
            "epoch 1 | loss on last batch:  6.664383e-01\n",
            "epoch 1 | loss on last batch:  6.873192e-01\n",
            "epoch 1 | loss on last batch:  6.704125e-01\n",
            "epoch 1 | loss on last batch:  6.796539e-01\n",
            "epoch 1 | loss on last batch:  7.690422e-01\n",
            "epoch 1 | loss on last batch:  7.748225e-01\n",
            "epoch 1 | loss on last batch:  6.847262e-01\n",
            "epoch 1 | loss on last batch:  6.811647e-01\n",
            "epoch 1 | loss on last batch:  6.804365e-01\n",
            "epoch 1 | loss on last batch:  7.430439e-01\n",
            "epoch 1 | loss on last batch:  7.400951e-01\n",
            "epoch 1 | loss on last batch:  7.442127e-01\n",
            "epoch 1 | loss on last batch:  7.039670e-01\n",
            "epoch 1 | loss on last batch:  7.040364e-01\n",
            "epoch 1 | loss on last batch:  7.379743e-01\n",
            "epoch 1 | loss on last batch:  6.899801e-01\n",
            "epoch 1 | loss on last batch:  7.557101e-01\n",
            "epoch 1 | loss on last batch:  7.279776e-01\n",
            "epoch 1 | loss on last batch:  7.359872e-01\n",
            "epoch 1 | loss on last batch:  6.784042e-01\n",
            "epoch 1 | loss on last batch:  7.429813e-01\n",
            "epoch 1 | loss on last batch:  6.672838e-01\n",
            "epoch 1 | loss on last batch:  6.847062e-01\n",
            "epoch 1 | loss on last batch:  6.505874e-01\n",
            "epoch 1 | loss on last batch:  7.341506e-01\n",
            "epoch 1 | loss on last batch:  6.809084e-01\n",
            "epoch 1 | loss on last batch:  6.967627e-01\n",
            "epoch 1 | loss on last batch:  7.119883e-01\n",
            "epoch 1 | loss on last batch:  6.684708e-01\n",
            "epoch 1 | loss on last batch:  6.938130e-01\n",
            "epoch 1 | loss on last batch:  6.808531e-01\n",
            "epoch 1 | loss on last batch:  7.108935e-01\n",
            "epoch 1 | loss on last batch:  7.503195e-01\n",
            "epoch 1 | loss on last batch:  6.511589e-01\n",
            "epoch 1 | loss on last batch:  6.967647e-01\n",
            "epoch 1 | loss on last batch:  6.898205e-01\n",
            "epoch 1 | loss on last batch:  7.344438e-01\n",
            "epoch 1 | loss on last batch:  7.122373e-01\n",
            "epoch 1 | loss on last batch:  7.063158e-01\n",
            "epoch 1 | loss on last batch:  7.044438e-01\n",
            "epoch 1 | loss on last batch:  6.791401e-01\n",
            "epoch 1 | loss on last batch:  6.500629e-01\n",
            "epoch 1 | loss on last batch:  7.088464e-01\n",
            "epoch 1 | loss on last batch:  6.878799e-01\n",
            "epoch 1 | loss on last batch:  6.832331e-01\n",
            "epoch 1 | loss on last batch:  6.914803e-01\n",
            "epoch 1 | loss on last batch:  6.768847e-01\n",
            "epoch 1 | loss on last batch:  6.879114e-01\n",
            "epoch 1 | loss on last batch:  6.898199e-01\n",
            "epoch 1 | loss on last batch:  7.205378e-01\n",
            "epoch 1 | loss on last batch:  6.848756e-01\n",
            "epoch 1 | loss on last batch:  6.824725e-01\n",
            "epoch 1 | loss on last batch:  6.949760e-01\n",
            "epoch 1 | loss on last batch:  6.789055e-01\n",
            "epoch 1 | loss on last batch:  6.893933e-01\n",
            "epoch 1 | loss on last batch:  7.000660e-01\n",
            "epoch 1 | loss on last batch:  7.198389e-01\n",
            "epoch 1 | loss on last batch:  6.891372e-01\n",
            "epoch 1 | loss on last batch:  6.977443e-01\n",
            "epoch 1 | loss on last batch:  6.924410e-01\n",
            "epoch 1 | loss on last batch:  7.105573e-01\n",
            "epoch 1 | loss on last batch:  6.586716e-01\n",
            "epoch 1 | loss on last batch:  6.932350e-01\n",
            "epoch 1 | loss on last batch:  6.844816e-01\n",
            "epoch 1 | loss on last batch:  6.754451e-01\n",
            "epoch 1 | loss on last batch:  6.755928e-01\n",
            "epoch 1 | loss on last batch:  6.887285e-01\n",
            "epoch 1 | loss on last batch:  7.006084e-01\n",
            "epoch 1 | loss on last batch:  6.796542e-01\n",
            "epoch 1 | loss on last batch:  7.276280e-01\n",
            "epoch 1 | loss on last batch:  7.035350e-01\n",
            "epoch 1 | loss on last batch:  7.103865e-01\n",
            "epoch 1 | loss on last batch:  6.678913e-01\n",
            "epoch 1 | loss on last batch:  7.182765e-01\n",
            "epoch 1 | loss on last batch:  6.889194e-01\n",
            "epoch 1 | loss on last batch:  6.670666e-01\n",
            "epoch 101 | loss on last batch:  3.546512e-03\n",
            "epoch 101 | loss on last batch:  3.591931e-03\n",
            "epoch 101 | loss on last batch:  3.359583e-03\n",
            "epoch 101 | loss on last batch:  3.392282e-03\n",
            "epoch 101 | loss on last batch:  3.434558e-03\n",
            "epoch 101 | loss on last batch:  3.642502e-03\n",
            "epoch 101 | loss on last batch:  3.434288e-03\n",
            "epoch 101 | loss on last batch:  3.422691e-03\n",
            "epoch 101 | loss on last batch:  3.436155e-03\n",
            "epoch 101 | loss on last batch:  2.799897e-03\n",
            "epoch 101 | loss on last batch:  2.903993e-03\n",
            "epoch 101 | loss on last batch:  3.359698e-03\n",
            "epoch 101 | loss on last batch:  3.711436e-03\n",
            "epoch 101 | loss on last batch:  3.466045e-03\n",
            "epoch 101 | loss on last batch:  2.880711e-03\n",
            "epoch 101 | loss on last batch:  3.656785e-03\n",
            "epoch 101 | loss on last batch:  3.783005e-03\n",
            "epoch 101 | loss on last batch:  3.149424e-03\n",
            "epoch 101 | loss on last batch:  3.747371e-03\n",
            "epoch 101 | loss on last batch:  3.532682e-03\n",
            "epoch 101 | loss on last batch:  3.836221e-03\n",
            "epoch 101 | loss on last batch:  3.210745e-03\n",
            "epoch 101 | loss on last batch:  3.282580e-03\n",
            "epoch 101 | loss on last batch:  2.691438e-03\n",
            "epoch 101 | loss on last batch:  3.474555e-03\n",
            "epoch 101 | loss on last batch:  3.399159e-03\n",
            "epoch 101 | loss on last batch:  3.912130e-03\n",
            "epoch 101 | loss on last batch:  3.577268e-03\n",
            "epoch 101 | loss on last batch:  3.643984e-03\n",
            "epoch 101 | loss on last batch:  3.522734e-03\n",
            "epoch 101 | loss on last batch:  3.707435e-03\n",
            "epoch 101 | loss on last batch:  3.171769e-03\n",
            "epoch 101 | loss on last batch:  3.430602e-03\n",
            "epoch 101 | loss on last batch:  2.853518e-03\n",
            "epoch 101 | loss on last batch:  3.009408e-03\n",
            "epoch 101 | loss on last batch:  3.889607e-03\n",
            "epoch 101 | loss on last batch:  2.516971e-03\n",
            "epoch 101 | loss on last batch:  3.810015e-03\n",
            "epoch 101 | loss on last batch:  3.432106e-03\n",
            "epoch 101 | loss on last batch:  3.262806e-03\n",
            "epoch 101 | loss on last batch:  3.490892e-03\n",
            "epoch 101 | loss on last batch:  3.228433e-03\n",
            "epoch 101 | loss on last batch:  2.980501e-03\n",
            "epoch 101 | loss on last batch:  3.193961e-03\n",
            "epoch 101 | loss on last batch:  3.404484e-03\n",
            "epoch 101 | loss on last batch:  3.737431e-03\n",
            "epoch 101 | loss on last batch:  3.844763e-03\n",
            "epoch 101 | loss on last batch:  2.567894e-03\n",
            "epoch 101 | loss on last batch:  3.225311e-03\n",
            "epoch 101 | loss on last batch:  3.523343e-03\n",
            "epoch 101 | loss on last batch:  3.796725e-03\n",
            "epoch 101 | loss on last batch:  3.710352e-03\n",
            "epoch 101 | loss on last batch:  3.307161e-03\n",
            "epoch 101 | loss on last batch:  2.961465e-03\n",
            "epoch 101 | loss on last batch:  3.724217e-03\n",
            "epoch 101 | loss on last batch:  2.667181e-03\n",
            "epoch 101 | loss on last batch:  3.813223e-03\n",
            "epoch 101 | loss on last batch:  3.714174e-03\n",
            "epoch 101 | loss on last batch:  3.322539e-03\n",
            "epoch 101 | loss on last batch:  3.483071e-03\n",
            "epoch 101 | loss on last batch:  3.519499e-03\n",
            "epoch 101 | loss on last batch:  3.384308e-03\n",
            "epoch 101 | loss on last batch:  3.413771e-03\n",
            "epoch 101 | loss on last batch:  3.648185e-03\n",
            "epoch 101 | loss on last batch:  3.810272e-03\n",
            "epoch 101 | loss on last batch:  2.537292e-03\n",
            "epoch 101 | loss on last batch:  3.842794e-03\n",
            "epoch 101 | loss on last batch:  4.179431e-03\n",
            "epoch 101 | loss on last batch:  3.526426e-03\n",
            "epoch 101 | loss on last batch:  3.311097e-03\n",
            "epoch 101 | loss on last batch:  2.828996e-03\n",
            "epoch 101 | loss on last batch:  2.917860e-03\n",
            "epoch 101 | loss on last batch:  3.574112e-03\n",
            "epoch 101 | loss on last batch:  3.160588e-03\n",
            "epoch 101 | loss on last batch:  3.572901e-03\n",
            "epoch 101 | loss on last batch:  3.397200e-03\n",
            "epoch 101 | loss on last batch:  3.021102e-03\n",
            "epoch 101 | loss on last batch:  3.235868e-03\n",
            "epoch 101 | loss on last batch:  3.774212e-03\n",
            "epoch 101 | loss on last batch:  3.048874e-03\n",
            "epoch 101 | loss on last batch:  3.135032e-03\n",
            "epoch 101 | loss on last batch:  3.979070e-03\n",
            "epoch 101 | loss on last batch:  3.105501e-03\n",
            "epoch 101 | loss on last batch:  3.808290e-03\n",
            "epoch 101 | loss on last batch:  3.282125e-03\n",
            "epoch 101 | loss on last batch:  3.096476e-03\n",
            "epoch 101 | loss on last batch:  3.829877e-03\n",
            "epoch 101 | loss on last batch:  3.763440e-03\n",
            "epoch 101 | loss on last batch:  3.549754e-03\n",
            "epoch 101 | loss on last batch:  3.649556e-03\n",
            "epoch 101 | loss on last batch:  3.699272e-03\n",
            "epoch 101 | loss on last batch:  3.454824e-03\n",
            "epoch 101 | loss on last batch:  3.557039e-03\n",
            "epoch 101 | loss on last batch:  3.785426e-03\n",
            "epoch 101 | loss on last batch:  2.527860e-03\n",
            "epoch 101 | loss on last batch:  2.455331e-03\n",
            "epoch 101 | loss on last batch:  3.046429e-03\n",
            "epoch 101 | loss on last batch:  3.090609e-03\n",
            "epoch 101 | loss on last batch:  2.886705e-03\n",
            "epoch 101 | loss on last batch:  3.581013e-03\n"
          ]
        }
      ]
    },
    {
      "cell_type": "code",
      "source": [
        "# Input size = 10\n",
        "plt.yscale('log')\n",
        "plt.plot(track_loss)\n",
        "plt.show()"
      ],
      "metadata": {
        "colab": {
          "base_uri": "https://localhost:8080/",
          "height": 433
        },
        "id": "IRFVpBiH136l",
        "outputId": "32eed68d-1f2c-4477-cf77-150dc1df0f4a"
      },
      "execution_count": null,
      "outputs": [
        {
          "output_type": "display_data",
          "data": {
            "text/plain": [
              "<Figure size 640x480 with 1 Axes>"
            ],
            "image/png": "[encoded data removed]"
          },
          "metadata": {}
        }
      ]
    },
    {
      "cell_type": "code",
      "source": [
        "#@title Save the model weights\n",
        "torch.save(net.state_dict(), '/content/ff_10_weights')\n",
        "!cp '/content/ff_10_weights' '/content/drive/MyDrive/NMA_NeuroAI/ff_10_weights'"
      ],
      "metadata": {
        "id": "smw_6hp929GV"
      },
      "execution_count": null,
      "outputs": []
    },
    {
      "cell_type": "code",
      "source": [
        "#@title Load the saved Feedforward model.\n",
        "!cp '/content/drive/MyDrive/NMA_NeuroAI/ff_10_weights' '/content/ff_10_weights'\n",
        "\n",
        "model = Feedforward(input_dim=params_dict['input_length'], hidden_dim=10, output_dim=1)\n",
        "model.load_state_dict(torch.load('/content/ff_10_weights'))"
      ],
      "metadata": {
        "colab": {
          "base_uri": "https://localhost:8080/"
        },
        "id": "IvA75nAh5VrE",
        "outputId": "271dd6b9-66e8-4185-a396-6384520db585"
      },
      "execution_count": null,
      "outputs": [
        {
          "output_type": "execute_result",
          "data": {
            "text/plain": [
              "<All keys matched successfully>"
            ]
          },
          "metadata": {},
          "execution_count": 22
        }
      ]
    },
    {
      "cell_type": "markdown",
      "source": [
        "# Second task"
      ],
      "metadata": {
        "id": "FyLxUcqj7Ab0"
      }
    },
    {
      "cell_type": "code",
      "source": [
        "params_dict = {\n",
        "    'batch_size': 10,\n",
        "    'n_epochs': 200,\n",
        "    'dataset_size': 1000,\n",
        "    'learning_rate': 0.0005,\n",
        "    'momentum': .99,\n",
        "    'task': 'ti',\n",
        "    'input_length': 10\n",
        "}"
      ],
      "metadata": {
        "id": "Xm9jOFx_69zs"
      },
      "execution_count": null,
      "outputs": []
    },
    {
      "cell_type": "code",
      "source": [
        "stimulus_dict = make_stimulus_dict(params_dict['input_length'])"
      ],
      "metadata": {
        "id": "ZdF02VwD69zs"
      },
      "execution_count": null,
      "outputs": []
    },
    {
      "cell_type": "code",
      "source": [
        "net = Feedforward(input_dim=params_dict['input_length'], hidden_dim=10, output_dim=1)\n",
        "if torch.cuda.is_available():\n",
        "  net.cuda()\n",
        "\n",
        "track_loss, resp_dict = train_loop(net, response_dict=True, **params_dict)"
      ],
      "metadata": {
        "colab": {
          "base_uri": "https://localhost:8080/"
        },
        "outputId": "047d2261-833b-4555-effc-9a289afc0e79",
        "id": "QyqBap8E69zs"
      },
      "execution_count": null,
      "outputs": [
        {
          "output_type": "stream",
          "name": "stdout",
          "text": [
            "epoch 1 | loss on last batch:  7.278697e-01\n",
            "epoch 1 | loss on last batch:  6.982560e-01\n",
            "epoch 1 | loss on last batch:  7.018268e-01\n",
            "epoch 1 | loss on last batch:  6.737809e-01\n",
            "epoch 1 | loss on last batch:  7.505219e-01\n",
            "epoch 1 | loss on last batch:  6.953648e-01\n",
            "epoch 1 | loss on last batch:  6.899623e-01\n",
            "epoch 1 | loss on last batch:  6.884109e-01\n",
            "epoch 1 | loss on last batch:  7.238373e-01\n",
            "epoch 1 | loss on last batch:  7.110880e-01\n",
            "epoch 1 | loss on last batch:  6.855608e-01\n",
            "epoch 1 | loss on last batch:  6.707398e-01\n",
            "epoch 1 | loss on last batch:  6.995573e-01\n",
            "epoch 1 | loss on last batch:  7.373997e-01\n",
            "epoch 1 | loss on last batch:  6.743290e-01\n",
            "epoch 1 | loss on last batch:  6.821994e-01\n",
            "epoch 1 | loss on last batch:  6.722899e-01\n",
            "epoch 1 | loss on last batch:  6.910343e-01\n",
            "epoch 1 | loss on last batch:  6.583254e-01\n",
            "epoch 1 | loss on last batch:  7.197160e-01\n",
            "epoch 1 | loss on last batch:  6.935943e-01\n",
            "epoch 1 | loss on last batch:  7.304868e-01\n",
            "epoch 1 | loss on last batch:  7.321700e-01\n",
            "epoch 1 | loss on last batch:  6.984157e-01\n",
            "epoch 1 | loss on last batch:  6.664383e-01\n",
            "epoch 1 | loss on last batch:  6.873192e-01\n",
            "epoch 1 | loss on last batch:  6.704125e-01\n",
            "epoch 1 | loss on last batch:  6.796539e-01\n",
            "epoch 1 | loss on last batch:  7.690422e-01\n",
            "epoch 1 | loss on last batch:  7.748225e-01\n",
            "epoch 1 | loss on last batch:  6.847262e-01\n",
            "epoch 1 | loss on last batch:  6.811647e-01\n",
            "epoch 1 | loss on last batch:  6.804365e-01\n",
            "epoch 1 | loss on last batch:  7.430439e-01\n",
            "epoch 1 | loss on last batch:  7.400951e-01\n",
            "epoch 1 | loss on last batch:  7.442127e-01\n",
            "epoch 1 | loss on last batch:  7.039670e-01\n",
            "epoch 1 | loss on last batch:  7.040364e-01\n",
            "epoch 1 | loss on last batch:  7.379743e-01\n",
            "epoch 1 | loss on last batch:  6.899801e-01\n",
            "epoch 1 | loss on last batch:  7.557101e-01\n",
            "epoch 1 | loss on last batch:  7.279776e-01\n",
            "epoch 1 | loss on last batch:  7.359872e-01\n",
            "epoch 1 | loss on last batch:  6.784042e-01\n",
            "epoch 1 | loss on last batch:  7.429813e-01\n",
            "epoch 1 | loss on last batch:  6.672838e-01\n",
            "epoch 1 | loss on last batch:  6.847062e-01\n",
            "epoch 1 | loss on last batch:  6.505874e-01\n",
            "epoch 1 | loss on last batch:  7.341506e-01\n",
            "epoch 1 | loss on last batch:  6.809084e-01\n",
            "epoch 1 | loss on last batch:  6.967627e-01\n",
            "epoch 1 | loss on last batch:  7.119883e-01\n",
            "epoch 1 | loss on last batch:  6.684708e-01\n",
            "epoch 1 | loss on last batch:  6.938130e-01\n",
            "epoch 1 | loss on last batch:  6.808531e-01\n",
            "epoch 1 | loss on last batch:  7.108935e-01\n",
            "epoch 1 | loss on last batch:  7.503195e-01\n",
            "epoch 1 | loss on last batch:  6.511589e-01\n",
            "epoch 1 | loss on last batch:  6.967647e-01\n",
            "epoch 1 | loss on last batch:  6.898205e-01\n",
            "epoch 1 | loss on last batch:  7.344438e-01\n",
            "epoch 1 | loss on last batch:  7.122373e-01\n",
            "epoch 1 | loss on last batch:  7.063158e-01\n",
            "epoch 1 | loss on last batch:  7.044438e-01\n",
            "epoch 1 | loss on last batch:  6.791401e-01\n",
            "epoch 1 | loss on last batch:  6.500629e-01\n",
            "epoch 1 | loss on last batch:  7.088464e-01\n",
            "epoch 1 | loss on last batch:  6.878799e-01\n",
            "epoch 1 | loss on last batch:  6.832331e-01\n",
            "epoch 1 | loss on last batch:  6.914803e-01\n",
            "epoch 1 | loss on last batch:  6.768847e-01\n",
            "epoch 1 | loss on last batch:  6.879114e-01\n",
            "epoch 1 | loss on last batch:  6.898199e-01\n",
            "epoch 1 | loss on last batch:  7.205378e-01\n",
            "epoch 1 | loss on last batch:  6.848756e-01\n",
            "epoch 1 | loss on last batch:  6.824725e-01\n",
            "epoch 1 | loss on last batch:  6.949760e-01\n",
            "epoch 1 | loss on last batch:  6.789055e-01\n",
            "epoch 1 | loss on last batch:  6.893933e-01\n",
            "epoch 1 | loss on last batch:  7.000660e-01\n",
            "epoch 1 | loss on last batch:  7.198389e-01\n",
            "epoch 1 | loss on last batch:  6.891372e-01\n",
            "epoch 1 | loss on last batch:  6.977443e-01\n",
            "epoch 1 | loss on last batch:  6.924410e-01\n",
            "epoch 1 | loss on last batch:  7.105573e-01\n",
            "epoch 1 | loss on last batch:  6.586716e-01\n",
            "epoch 1 | loss on last batch:  6.932350e-01\n",
            "epoch 1 | loss on last batch:  6.844816e-01\n",
            "epoch 1 | loss on last batch:  6.754451e-01\n",
            "epoch 1 | loss on last batch:  6.755928e-01\n",
            "epoch 1 | loss on last batch:  6.887285e-01\n",
            "epoch 1 | loss on last batch:  7.006084e-01\n",
            "epoch 1 | loss on last batch:  6.796542e-01\n",
            "epoch 1 | loss on last batch:  7.276280e-01\n",
            "epoch 1 | loss on last batch:  7.035350e-01\n",
            "epoch 1 | loss on last batch:  7.103865e-01\n",
            "epoch 1 | loss on last batch:  6.678913e-01\n",
            "epoch 1 | loss on last batch:  7.182765e-01\n",
            "epoch 1 | loss on last batch:  6.889194e-01\n",
            "epoch 1 | loss on last batch:  6.670666e-01\n",
            "epoch 101 | loss on last batch:  3.546512e-03\n",
            "epoch 101 | loss on last batch:  3.591931e-03\n",
            "epoch 101 | loss on last batch:  3.359583e-03\n",
            "epoch 101 | loss on last batch:  3.392282e-03\n",
            "epoch 101 | loss on last batch:  3.434558e-03\n",
            "epoch 101 | loss on last batch:  3.642502e-03\n",
            "epoch 101 | loss on last batch:  3.434288e-03\n",
            "epoch 101 | loss on last batch:  3.422691e-03\n",
            "epoch 101 | loss on last batch:  3.436155e-03\n",
            "epoch 101 | loss on last batch:  2.799897e-03\n",
            "epoch 101 | loss on last batch:  2.903993e-03\n",
            "epoch 101 | loss on last batch:  3.359698e-03\n",
            "epoch 101 | loss on last batch:  3.711436e-03\n",
            "epoch 101 | loss on last batch:  3.466045e-03\n",
            "epoch 101 | loss on last batch:  2.880711e-03\n",
            "epoch 101 | loss on last batch:  3.656785e-03\n",
            "epoch 101 | loss on last batch:  3.783005e-03\n",
            "epoch 101 | loss on last batch:  3.149424e-03\n",
            "epoch 101 | loss on last batch:  3.747371e-03\n",
            "epoch 101 | loss on last batch:  3.532682e-03\n",
            "epoch 101 | loss on last batch:  3.836221e-03\n",
            "epoch 101 | loss on last batch:  3.210745e-03\n",
            "epoch 101 | loss on last batch:  3.282580e-03\n",
            "epoch 101 | loss on last batch:  2.691438e-03\n",
            "epoch 101 | loss on last batch:  3.474555e-03\n",
            "epoch 101 | loss on last batch:  3.399159e-03\n",
            "epoch 101 | loss on last batch:  3.912130e-03\n",
            "epoch 101 | loss on last batch:  3.577268e-03\n",
            "epoch 101 | loss on last batch:  3.643984e-03\n",
            "epoch 101 | loss on last batch:  3.522734e-03\n",
            "epoch 101 | loss on last batch:  3.707435e-03\n",
            "epoch 101 | loss on last batch:  3.171769e-03\n",
            "epoch 101 | loss on last batch:  3.430602e-03\n",
            "epoch 101 | loss on last batch:  2.853518e-03\n",
            "epoch 101 | loss on last batch:  3.009408e-03\n",
            "epoch 101 | loss on last batch:  3.889607e-03\n",
            "epoch 101 | loss on last batch:  2.516971e-03\n",
            "epoch 101 | loss on last batch:  3.810015e-03\n",
            "epoch 101 | loss on last batch:  3.432106e-03\n",
            "epoch 101 | loss on last batch:  3.262806e-03\n",
            "epoch 101 | loss on last batch:  3.490892e-03\n",
            "epoch 101 | loss on last batch:  3.228433e-03\n",
            "epoch 101 | loss on last batch:  2.980501e-03\n",
            "epoch 101 | loss on last batch:  3.193961e-03\n",
            "epoch 101 | loss on last batch:  3.404484e-03\n",
            "epoch 101 | loss on last batch:  3.737431e-03\n",
            "epoch 101 | loss on last batch:  3.844763e-03\n",
            "epoch 101 | loss on last batch:  2.567894e-03\n",
            "epoch 101 | loss on last batch:  3.225311e-03\n",
            "epoch 101 | loss on last batch:  3.523343e-03\n",
            "epoch 101 | loss on last batch:  3.796725e-03\n",
            "epoch 101 | loss on last batch:  3.710352e-03\n",
            "epoch 101 | loss on last batch:  3.307161e-03\n",
            "epoch 101 | loss on last batch:  2.961465e-03\n",
            "epoch 101 | loss on last batch:  3.724217e-03\n",
            "epoch 101 | loss on last batch:  2.667181e-03\n",
            "epoch 101 | loss on last batch:  3.813223e-03\n",
            "epoch 101 | loss on last batch:  3.714174e-03\n",
            "epoch 101 | loss on last batch:  3.322539e-03\n",
            "epoch 101 | loss on last batch:  3.483071e-03\n",
            "epoch 101 | loss on last batch:  3.519499e-03\n",
            "epoch 101 | loss on last batch:  3.384308e-03\n",
            "epoch 101 | loss on last batch:  3.413771e-03\n",
            "epoch 101 | loss on last batch:  3.648185e-03\n",
            "epoch 101 | loss on last batch:  3.810272e-03\n",
            "epoch 101 | loss on last batch:  2.537292e-03\n",
            "epoch 101 | loss on last batch:  3.842794e-03\n",
            "epoch 101 | loss on last batch:  4.179431e-03\n",
            "epoch 101 | loss on last batch:  3.526426e-03\n",
            "epoch 101 | loss on last batch:  3.311097e-03\n",
            "epoch 101 | loss on last batch:  2.828996e-03\n",
            "epoch 101 | loss on last batch:  2.917860e-03\n",
            "epoch 101 | loss on last batch:  3.574112e-03\n",
            "epoch 101 | loss on last batch:  3.160588e-03\n",
            "epoch 101 | loss on last batch:  3.572901e-03\n",
            "epoch 101 | loss on last batch:  3.397200e-03\n",
            "epoch 101 | loss on last batch:  3.021102e-03\n",
            "epoch 101 | loss on last batch:  3.235868e-03\n",
            "epoch 101 | loss on last batch:  3.774212e-03\n",
            "epoch 101 | loss on last batch:  3.048874e-03\n",
            "epoch 101 | loss on last batch:  3.135032e-03\n",
            "epoch 101 | loss on last batch:  3.979070e-03\n",
            "epoch 101 | loss on last batch:  3.105501e-03\n",
            "epoch 101 | loss on last batch:  3.808290e-03\n",
            "epoch 101 | loss on last batch:  3.282125e-03\n",
            "epoch 101 | loss on last batch:  3.096476e-03\n",
            "epoch 101 | loss on last batch:  3.829877e-03\n",
            "epoch 101 | loss on last batch:  3.763440e-03\n",
            "epoch 101 | loss on last batch:  3.549754e-03\n",
            "epoch 101 | loss on last batch:  3.649556e-03\n",
            "epoch 101 | loss on last batch:  3.699272e-03\n",
            "epoch 101 | loss on last batch:  3.454824e-03\n",
            "epoch 101 | loss on last batch:  3.557039e-03\n",
            "epoch 101 | loss on last batch:  3.785426e-03\n",
            "epoch 101 | loss on last batch:  2.527860e-03\n",
            "epoch 101 | loss on last batch:  2.455331e-03\n",
            "epoch 101 | loss on last batch:  3.046429e-03\n",
            "epoch 101 | loss on last batch:  3.090609e-03\n",
            "epoch 101 | loss on last batch:  2.886705e-03\n",
            "epoch 101 | loss on last batch:  3.581013e-03\n"
          ]
        }
      ]
    },
    {
      "cell_type": "markdown",
      "source": [
        "# Collapse"
      ],
      "metadata": {
        "id": "m8I-Opq355aR"
      }
    },
    {
      "cell_type": "code",
      "source": [
        "# Input size = 5\n",
        "plt.yscale('log')\n",
        "plt.plot(track_loss)\n",
        "plt.show()"
      ],
      "metadata": {
        "colab": {
          "base_uri": "https://localhost:8080/",
          "height": 435
        },
        "id": "ADtJDXwUsNJ2",
        "outputId": "fd03e3a7-def6-4231-87ae-e4925cedfe6e"
      },
      "execution_count": null,
      "outputs": [
        {
          "output_type": "display_data",
          "data": {
            "text/plain": [
              "<Figure size 640x480 with 1 Axes>"
            ],
            "image/png": "[encoded data removed]"
          },
          "metadata": {}
        }
      ]
    },
    {
      "cell_type": "code",
      "source": [
        "# Input size = 25\n",
        "plt.yscale('log')\n",
        "plt.plot(track_loss)\n",
        "plt.show()"
      ],
      "metadata": {
        "colab": {
          "base_uri": "https://localhost:8080/",
          "height": 430
        },
        "id": "wO-sE0nYza1r",
        "outputId": "5dbb7d68-c75d-4823-e2ac-42767b067b28"
      },
      "execution_count": null,
      "outputs": [
        {
          "output_type": "display_data",
          "data": {
            "text/plain": [
              "<Figure size 640x480 with 1 Axes>"
            ],
            "image/png": "[encoded data removed]"
          },
          "metadata": {}
        }
      ]
    },
    {
      "cell_type": "code",
      "source": [
        "# Input length 5\n",
        "net.evaluate(params_dict['dataset_size'], params_dict['task'], stimulus_dict)"
      ],
      "metadata": {
        "colab": {
          "base_uri": "https://localhost:8080/"
        },
        "id": "qM1QjdbFvdL0",
        "outputId": "0352d450-a56b-45d7-c322-03cbfcf5176e"
      },
      "execution_count": null,
      "outputs": [
        {
          "output_type": "execute_result",
          "data": {
            "text/plain": [
              "5.754082508246938e-07"
            ]
          },
          "metadata": {},
          "execution_count": 30
        }
      ]
    },
    {
      "cell_type": "code",
      "source": [
        "# Input length 25\n",
        "net.evaluate(params_dict['dataset_size'], params_dict['task'], stimulus_dict)"
      ],
      "metadata": {
        "colab": {
          "base_uri": "https://localhost:8080/"
        },
        "id": "uMJ6fvx30CH1",
        "outputId": "543d3775-0263-4f68-96a2-d08313932517"
      },
      "execution_count": null,
      "outputs": [
        {
          "output_type": "execute_result",
          "data": {
            "text/plain": [
              "8.30100432835934e-08"
            ]
          },
          "metadata": {},
          "execution_count": 51
        }
      ]
    },
    {
      "cell_type": "code",
      "source": [
        "# From Sam's code (make sure to properly credit if we use this)\n",
        "\n",
        "import itertools\n",
        "\n",
        "def get_test_data(n):\n",
        "    \"\"\"Generate test data for relational tasks.\n",
        "    \"\"\"\n",
        "    test_x = np.zeros((n, n, 2*n))\n",
        "    for i, j in itertools.product(range(n), range(n)):\n",
        "        test_x[i,j,i] = 1\n",
        "        test_x[i,j,n+j] = 1\n",
        "    test_x = torch.from_numpy(test_x).float()\n",
        "    test_x = test_x/torch.sqrt(torch.tensor(2))\n",
        "    return test_x\n",
        "\n",
        "def get_transitive_data(n):\n",
        "    \"\"\"Generate training data for TI task.\n",
        "    \"\"\"\n",
        "    test_x = get_test_data(n)\n",
        "    x = test_x[tuple(zip(*([(i, i+1) for i in range(n-1)] + [(i+1, i) for i in range(n-1)])))]\n",
        "    y = torch.tensor([1.]*(n-1)+[-1.]*(n-1))\n",
        "    return x, y\n",
        "\n",
        "get_transitive_data(5)"
      ],
      "metadata": {
        "colab": {
          "base_uri": "https://localhost:8080/"
        },
        "id": "Tkcgs4QK1EpV",
        "outputId": "f7409ed3-4d2a-45d4-b33d-b57574f6067c"
      },
      "execution_count": null,
      "outputs": [
        {
          "output_type": "execute_result",
          "data": {
            "text/plain": [
              "(tensor([[0.7071, 0.0000, 0.0000, 0.0000, 0.0000, 0.0000, 0.7071, 0.0000, 0.0000,\n",
              "          0.0000],\n",
              "         [0.0000, 0.7071, 0.0000, 0.0000, 0.0000, 0.0000, 0.0000, 0.7071, 0.0000,\n",
              "          0.0000],\n",
              "         [0.0000, 0.0000, 0.7071, 0.0000, 0.0000, 0.0000, 0.0000, 0.0000, 0.7071,\n",
              "          0.0000],\n",
              "         [0.0000, 0.0000, 0.0000, 0.7071, 0.0000, 0.0000, 0.0000, 0.0000, 0.0000,\n",
              "          0.7071],\n",
              "         [0.0000, 0.7071, 0.0000, 0.0000, 0.0000, 0.7071, 0.0000, 0.0000, 0.0000,\n",
              "          0.0000],\n",
              "         [0.0000, 0.0000, 0.7071, 0.0000, 0.0000, 0.0000, 0.7071, 0.0000, 0.0000,\n",
              "          0.0000],\n",
              "         [0.0000, 0.0000, 0.0000, 0.7071, 0.0000, 0.0000, 0.0000, 0.7071, 0.0000,\n",
              "          0.0000],\n",
              "         [0.0000, 0.0000, 0.0000, 0.0000, 0.7071, 0.0000, 0.0000, 0.0000, 0.7071,\n",
              "          0.0000]]),\n",
              " tensor([ 1.,  1.,  1.,  1., -1., -1., -1., -1.]))"
            ]
          },
          "metadata": {},
          "execution_count": 56
        }
      ]
    },
    {
      "cell_type": "code",
      "source": [
        "# Math question:\n",
        "# Figure out the best input size vs batch size"
      ],
      "metadata": {
        "id": "YSDKQfDoFHNP"
      },
      "execution_count": null,
      "outputs": []
    },
    {
      "cell_type": "code",
      "source": [
        "# @title Architecture: RNN\n",
        "\n",
        "# Inputs: list of integers x number of time steps\n",
        "# Outputs: list of integers x number of time steps\n",
        "\n",
        "# OR\n",
        "\n",
        "# Inputs: list of two vectors x number of time steps\n",
        "# Outputs: scalar (0/1) x number of time steps\n",
        "\n"
      ],
      "metadata": {
        "id": "82qHWr1gFb7j"
      },
      "execution_count": null,
      "outputs": []
    }
  ]
}